{
  "cells": [
    {
      "cell_type": "markdown",
      "id": "3fb4163e",
      "metadata": {
        "id": "3fb4163e"
      },
      "source": [
        "## **Task  1 - Práctica**\n",
        "Para esta parte estarán resolviendo el problema de CartPole con Deep Q-Learning y una red de destino. Para esto, el\n",
        "objetivo de este ejercicio es entrenar a un agente para que equilibre un poste en un carro (cartpole) en movimiento\n",
        "durante el mayor tiempo posible. Se deberá usar Deep Q-Learning (DQL) con una red objetivo para lograr esto.\n"
      ]
    },
    {
      "cell_type": "markdown",
      "id": "7d823d23",
      "metadata": {
        "id": "7d823d23"
      },
      "source": [
        "#### 1. librerias"
      ]
    },
    {
      "cell_type": "code",
      "execution_count": null,
      "id": "eda8e1e4",
      "metadata": {
        "id": "eda8e1e4"
      },
      "outputs": [],
      "source": [
        "from collections import deque, namedtuple\n",
        "import random\n",
        "import gymnasium as gym\n",
        "import numpy as np\n",
        "import torch\n",
        "import torch.nn as nn\n",
        "import torch.optim as optim\n",
        "import matplotlib.pyplot as plt\n"
      ]
    },
    {
      "cell_type": "markdown",
      "id": "17c4f055",
      "metadata": {
        "id": "17c4f055"
      },
      "source": [
        "#### 2. Entorno en Cartpole"
      ]
    },
    {
      "cell_type": "code",
      "execution_count": 2,
      "id": "8e0f0d83",
      "metadata": {
        "colab": {
          "base_uri": "https://localhost:8080/"
        },
        "id": "8e0f0d83",
        "outputId": "f984e817-5a78-4ece-9322-a87d7efb5766"
      },
      "outputs": [
        {
          "data": {
            "text/plain": [
              "<TimeLimit<OrderEnforcing<PassiveEnvChecker<CartPoleEnv<CartPole-v1>>>>>"
            ]
          },
          "execution_count": 2,
          "metadata": {},
          "output_type": "execute_result"
        }
      ],
      "source": [
        "np.random.seed(123)\n",
        "torch.manual_seed(123)\n",
        "\n",
        "env = gym.make(\"CartPole-v1\", render_mode=\"rgb_array\")\n",
        "env\n"
      ]
    },
    {
      "cell_type": "code",
      "execution_count": 3,
      "id": "593aae52",
      "metadata": {
        "id": "593aae52"
      },
      "outputs": [],
      "source": [
        "obs, info = env.reset(seed=123)\n",
        "obs_dim   = env.observation_space.shape[0]\n",
        "action_dim= env.action_space.n\n",
        "device = torch.device(\"cuda\" if torch.cuda.is_available() else \"cpu\")"
      ]
    },
    {
      "cell_type": "markdown",
      "id": "1181d123",
      "metadata": {
        "id": "1181d123"
      },
      "source": [
        "### 3. Definan las redes en línea y de destino:\n",
        "\n",
        "Cree dos redes neuronales, la red en línea y la red de destino. La red\n",
        "en línea se utiliza para la selección de acciones y se actualiza con más frecuencia, mientras que la red de\n",
        "destino se utiliza para estimar los valores Q y se actualiza periódicamente. Ambas redes deberían tener una\n",
        "arquitectura similar con capas de entrada y salida. Inicialmente, la red de destino debería tener los mismos\n",
        "pesos que la red en línea.  "
      ]
    },
    {
      "cell_type": "code",
      "execution_count": 4,
      "id": "a15926c4",
      "metadata": {
        "id": "a15926c4"
      },
      "outputs": [],
      "source": [
        "class QNetwork(nn.Module):\n",
        "    def __init__(self, obs_dim, action_dim, hidden=(128, 128)):\n",
        "        super().__init__()\n",
        "        self.net = nn.Sequential(\n",
        "            nn.Linear(obs_dim, hidden[0]),\n",
        "            nn.ReLU(),\n",
        "            nn.Linear(hidden[0], hidden[1]),\n",
        "            nn.ReLU(),\n",
        "            nn.Linear(hidden[1], action_dim)\n",
        "        )\n",
        "        self._init_weights()\n",
        "\n",
        "    def _init_weights(self):\n",
        "        for m in self.modules():\n",
        "            if isinstance(m, nn.Linear):\n",
        "                nn.init.xavier_uniform_(m.weight)\n",
        "                nn.init.zeros_(m.bias)\n",
        "\n",
        "    def forward(self, x):\n",
        "        return self.net(x)\n",
        "\n",
        "online_q = QNetwork(obs_dim, action_dim).to(device)\n",
        "target_q = QNetwork(obs_dim, action_dim).to(device)\n",
        "\n",
        "# target inicial\n",
        "target_q.load_state_dict(online_q.state_dict())\n",
        "for p in target_q.parameters():\n",
        "    p.requires_grad = False\n",
        "target_q.eval()\n",
        "\n",
        "# Optimizador y loss\n",
        "optimizer = optim.Adam(online_q.parameters(), lr=1e-3)\n",
        "loss_fn   = nn.SmoothL1Loss()\n",
        "\n",
        "# Sincronizacion de redes\n",
        "def hard_update(target: nn.Module, source: nn.Module):\n",
        "    target.load_state_dict(source.state_dict())\n",
        "\n",
        "@torch.no_grad()\n",
        "def soft_update(target: nn.Module, source: nn.Module, tau: float = 0.005):\n",
        "    for tp, sp in zip(target.parameters(), source.parameters()):\n",
        "        tp.data.mul_(1.0 - tau).add_(sp.data, alpha=tau)"
      ]
    },
    {
      "cell_type": "markdown",
      "id": "676b7fa4",
      "metadata": {
        "id": "676b7fa4"
      },
      "source": [
        "#### 4. Establecer hiperparámetros\n",
        "Defina hiperparámetros como el número de episodios, el tamaño de los\n",
        "batches, el factor de descuento (gamma) y los parámetros de exploración (epsilon, epsilon decay, epsilon\n",
        "mínimo). Ajuste estos hiperparámetros según sea necesario para optimizar el entrenamiento.\n"
      ]
    },
    {
      "cell_type": "code",
      "execution_count": null,
      "id": "96aae237",
      "metadata": {
        "id": "96aae237"
      },
      "outputs": [],
      "source": [
        "from dataclasses import dataclass\n",
        "import torch\n",
        "\n",
        "@dataclass\n",
        "class DQNConfig:\n",
        "    episodes: int = 500\n",
        "    buffer_capacity: int = 50_000\n",
        "    warmup_steps: int = 5_000\n",
        "    batch_size: int = 64\n",
        "    gamma: float = 0.99\n",
        "    lr: float = 1e-3\n",
        "\n",
        "    # Exploracion\n",
        "    epsilon_start: float = 1.0\n",
        "    epsilon_end: float = 0.03\n",
        "    epsilon_decay_steps: int = 15_000\n",
        "    use_exponential_eps: bool = False\n",
        "\n",
        "    # Target network\n",
        "    target_update_every: int = 1_000\n",
        "    use_soft_update: bool = False\n",
        "    tau: float = 0.005\n",
        "\n",
        "    grad_clip: float = 10.0\n",
        "    seed: int = 123\n",
        "\n",
        "cfg = DQNConfig()\n",
        "\n",
        "def epsilon_linear(step: int, cfg: DQNConfig):\n",
        "    frac = min(1.0, step / cfg.epsilon_decay_steps)\n",
        "    return cfg.epsilon_start + (cfg.epsilon_end - cfg.epsilon_start) * frac\n",
        "\n",
        "def epsilon_exponential(step: int, cfg: DQNConfig):\n",
        "    decay = (cfg.epsilon_end / cfg.epsilon_start) ** (1.0 / cfg.epsilon_decay_steps)\n",
        "    return max(cfg.epsilon_end, cfg.epsilon_start * (decay ** step))\n",
        "\n",
        "def get_epsilon(global_step: int, cfg: DQNConfig):\n",
        "    if cfg.use_exponential_eps:\n",
        "        return epsilon_exponential(global_step, cfg)\n",
        "    return epsilon_linear(global_step, cfg)"
      ]
    },
    {
      "cell_type": "markdown",
      "id": "e53de351",
      "metadata": {
        "id": "e53de351"
      },
      "source": [
        "#### 5. selección de acciones épsilon-greedy\n",
        "Cree una función para la selección de acciones épsilon greedy. Esta función ayuda al agente a elegir acciones basadas en la política épsilon-greedy.\n"
      ]
    },
    {
      "cell_type": "code",
      "execution_count": 6,
      "id": "39b3af25",
      "metadata": {
        "id": "39b3af25"
      },
      "outputs": [],
      "source": [
        "@torch.no_grad()\n",
        "def select_action(state_np: np.ndarray, online_q: nn.Module, action_dim: int, device: torch.device, epsilon: float):\n",
        "    if np.random.rand() < epsilon:\n",
        "        return np.random.randint(action_dim)\n",
        "    s = torch.tensor(state_np, dtype=torch.float32, device=device).unsqueeze(0)\n",
        "    q = online_q(s)\n",
        "    return int(q.argmax(dim=1).item())\n"
      ]
    },
    {
      "cell_type": "code",
      "execution_count": 7,
      "id": "2b8df70a",
      "metadata": {
        "colab": {
          "base_uri": "https://localhost:8080/"
        },
        "id": "2b8df70a",
        "outputId": "b6e97a7a-b145-4821-c15b-ba360264c58c"
      },
      "outputs": [
        {
          "name": "stdout",
          "output_type": "stream",
          "text": [
            "Acciones (a, eps) en 10 pasos de prueba: [(0, 1.0), (0, 1.0), (1, 1.0), (1, 1.0), (0, 1.0), (1, 1.0), (0, 1.0), (1, 1.0), (1, 0.999), (0, 0.999)]\n"
          ]
        }
      ],
      "source": [
        "# prueba para verrificar que funcione, no hace entrenamiento\n",
        "global_step = 0\n",
        "state, _ = env.reset(seed=cfg.seed)\n",
        "done = False\n",
        "taken = []\n",
        "for _ in range(10):\n",
        "    eps = get_epsilon(global_step, cfg)\n",
        "    a = select_action(state, online_q, action_dim, device, eps)\n",
        "    taken.append((a, round(eps, 3)))\n",
        "    state, reward, terminated, truncated, _ = env.step(a)\n",
        "    done = terminated or truncated\n",
        "    global_step += 1\n",
        "    if done:\n",
        "        state, _ = env.reset(seed=cfg.seed)\n",
        "\n",
        "print(\"Acciones (a, eps) en 10 pasos de prueba:\", taken)\n"
      ]
    },
    {
      "cell_type": "markdown",
      "id": "XD2HzaKcrsmT",
      "metadata": {
        "id": "XD2HzaKcrsmT"
      },
      "source": [
        "#### 6. Defina la reproducción de la experiencia (experience replay):\n",
        "Implemente una función para la reproducción de la experiencia, que es una parte crucial de DQL. Esta función ayuda al agente a aprender de una memoria\n",
        "de repetición y a estabilizar el entrenamiento.\n"
      ]
    },
    {
      "cell_type": "code",
      "execution_count": null,
      "id": "m5MfVoYwr9GE",
      "metadata": {
        "id": "m5MfVoYwr9GE"
      },
      "outputs": [],
      "source": [
        "Transition = namedtuple(\"Transition\", (\"state\", \"action\", \"reward\", \"next_state\", \"done\"))\n",
        "\n",
        "class ReplayBuffer:\n",
        "    def __init__(self, capacity: int):\n",
        "        self.buffer = deque(maxlen=capacity)\n",
        "\n",
        "    def push(self, state, action, reward, next_state, done):\n",
        "        self.buffer.append(Transition(state, action, reward, next_state, done))\n",
        "\n",
        "    def sample(self, batch_size: int):\n",
        "        batch = random.sample(self.buffer, batch_size)\n",
        "        return Transition(*zip(*batch))\n",
        "\n",
        "    def __len__(self):\n",
        "        return len(self.buffer)\n",
        "\n",
        "memory = ReplayBuffer(cfg.buffer_capacity)\n"
      ]
    },
    {
      "cell_type": "markdown",
      "id": "vL2qTOUvsEcn",
      "metadata": {
        "id": "vL2qTOUvsEcn"
      },
      "source": [
        "#### 7. Ciclo de entrenamiento:\n",
        "Cree un ciclo para el entrenamiento del agente. En cada episodio, el agente\n",
        "interactúa con el entorno, recopila experiencias y actualiza sus valores Q mediante la repetición de experiencias (experience replay). La red de destino se actualiza cada N episodios\n"
      ]
    },
    {
      "cell_type": "code",
      "execution_count": 10,
      "id": "tY_lSuLrsHd6",
      "metadata": {
        "colab": {
          "base_uri": "https://localhost:8080/"
        },
        "id": "tY_lSuLrsHd6",
        "outputId": "86adf26e-aca0-4326-f8bd-728966f31e32"
      },
      "outputs": [
        {
          "name": "stdout",
          "output_type": "stream",
          "text": [
            "Episodio 10, Retorno Promedio (últimos 10): 21.6\n",
            "Episodio 20, Retorno Promedio (últimos 10): 24.2\n",
            "Episodio 30, Retorno Promedio (últimos 10): 25.6\n",
            "Episodio 40, Retorno Promedio (últimos 10): 27.0\n",
            "Episodio 50, Retorno Promedio (últimos 10): 22.9\n",
            "Episodio 60, Retorno Promedio (últimos 10): 23.6\n",
            "Episodio 70, Retorno Promedio (últimos 10): 20.7\n",
            "Episodio 80, Retorno Promedio (últimos 10): 26.0\n",
            "Episodio 90, Retorno Promedio (últimos 10): 23.3\n",
            "Episodio 100, Retorno Promedio (últimos 10): 26.8\n",
            "Episodio 110, Retorno Promedio (últimos 10): 22.2\n",
            "Episodio 120, Retorno Promedio (últimos 10): 29.5\n",
            "Episodio 130, Retorno Promedio (últimos 10): 27.9\n",
            "Episodio 140, Retorno Promedio (últimos 10): 34.9\n",
            "Episodio 150, Retorno Promedio (últimos 10): 28.8\n",
            "Episodio 160, Retorno Promedio (últimos 10): 28.8\n",
            "Episodio 170, Retorno Promedio (últimos 10): 25.6\n",
            "Episodio 180, Retorno Promedio (últimos 10): 27.3\n",
            "Episodio 190, Retorno Promedio (últimos 10): 32.1\n",
            "Episodio 200, Retorno Promedio (últimos 10): 24.2\n",
            "Episodio 210, Retorno Promedio (últimos 10): 28.6\n",
            "Episodio 220, Retorno Promedio (últimos 10): 23.8\n",
            "Episodio 230, Retorno Promedio (últimos 10): 24.7\n",
            "Episodio 240, Retorno Promedio (últimos 10): 21.2\n",
            "Episodio 250, Retorno Promedio (últimos 10): 18.1\n",
            "Episodio 260, Retorno Promedio (últimos 10): 33.7\n",
            "Episodio 270, Retorno Promedio (últimos 10): 22.4\n",
            "Episodio 280, Retorno Promedio (últimos 10): 23.4\n",
            "Episodio 290, Retorno Promedio (últimos 10): 35.9\n",
            "Episodio 300, Retorno Promedio (últimos 10): 22.9\n",
            "Episodio 310, Retorno Promedio (últimos 10): 44.0\n",
            "Episodio 320, Retorno Promedio (últimos 10): 19.4\n",
            "Episodio 330, Retorno Promedio (últimos 10): 51.5\n",
            "Episodio 340, Retorno Promedio (últimos 10): 24.0\n",
            "Episodio 350, Retorno Promedio (últimos 10): 50.5\n",
            "Episodio 360, Retorno Promedio (últimos 10): 39.7\n",
            "Episodio 370, Retorno Promedio (últimos 10): 47.2\n",
            "Episodio 380, Retorno Promedio (últimos 10): 62.6\n",
            "Episodio 390, Retorno Promedio (últimos 10): 67.7\n",
            "Episodio 400, Retorno Promedio (últimos 10): 107.7\n",
            "Episodio 410, Retorno Promedio (últimos 10): 105.3\n",
            "Episodio 420, Retorno Promedio (últimos 10): 104.0\n",
            "Episodio 430, Retorno Promedio (últimos 10): 116.1\n",
            "Episodio 440, Retorno Promedio (últimos 10): 89.7\n",
            "Episodio 450, Retorno Promedio (últimos 10): 85.5\n",
            "Episodio 460, Retorno Promedio (últimos 10): 101.9\n",
            "Episodio 470, Retorno Promedio (últimos 10): 80.6\n",
            "Episodio 480, Retorno Promedio (últimos 10): 86.3\n",
            "Episodio 490, Retorno Promedio (últimos 10): 82.8\n",
            "Episodio 500, Retorno Promedio (últimos 10): 111.1\n"
          ]
        }
      ],
      "source": [
        "def compute_loss(batch, online_q, target_q, cfg, device):\n",
        "    states = torch.tensor(np.array(batch.state), dtype=torch.float32, device=device)\n",
        "    actions = torch.tensor(batch.action, dtype=torch.int64, device=device).unsqueeze(1)\n",
        "    rewards = torch.tensor(batch.reward, dtype=torch.float32, device=device).unsqueeze(1)\n",
        "    next_states = torch.tensor(np.array(batch.next_state), dtype=torch.float32, device=device)\n",
        "    dones = torch.tensor(batch.done, dtype=torch.float32, device=device).unsqueeze(1)\n",
        "\n",
        "    # Q(s,a)\n",
        "    q_values = online_q(states).gather(1, actions)\n",
        "\n",
        "    with torch.no_grad():\n",
        "        next_q = target_q(next_states).max(1, keepdim=True)[0]\n",
        "        target = rewards + cfg.gamma * (1 - dones) * next_q\n",
        "\n",
        "    loss = loss_fn(q_values, target)\n",
        "    return loss\n",
        "\n",
        "returns = []\n",
        "global_step = 0\n",
        "\n",
        "for ep in range(cfg.episodes):\n",
        "    state, _ = env.reset(seed=cfg.seed + ep)\n",
        "    done = False\n",
        "    total_reward = 0\n",
        "\n",
        "    while not done:\n",
        "        epsilon = get_epsilon(global_step, cfg)\n",
        "        action = select_action(state, online_q, action_dim, device, epsilon)\n",
        "\n",
        "        next_state, reward, terminated, truncated, _ = env.step(action)\n",
        "        done = terminated or truncated\n",
        "\n",
        "        memory.push(state, action, reward, next_state, done)\n",
        "        state = next_state\n",
        "        total_reward += reward\n",
        "        global_step += 1\n",
        "\n",
        "        if len(memory) >= cfg.warmup_steps:\n",
        "            batch = memory.sample(cfg.batch_size)\n",
        "            loss = compute_loss(batch, online_q, target_q, cfg, device)\n",
        "\n",
        "            optimizer.zero_grad()\n",
        "            loss.backward()\n",
        "            torch.nn.utils.clip_grad_norm_(online_q.parameters(), cfg.grad_clip)\n",
        "            optimizer.step()\n",
        "\n",
        "            # Actualizar target\n",
        "            if cfg.use_soft_update:\n",
        "                soft_update(target_q, online_q, cfg.tau)\n",
        "            elif global_step % cfg.target_update_every == 0:\n",
        "                hard_update(target_q, online_q)\n",
        "\n",
        "    returns.append(total_reward)\n",
        "\n",
        "    if (ep+1) % 10 == 0:\n",
        "        avg = np.mean(returns[-10:])\n",
        "        print(f\"Episodio {ep+1}, Retorno Promedio (últimos 10): {avg:.1f}\")\n"
      ]
    },
    {
      "cell_type": "markdown",
      "id": "TQRpWkUrsiFr",
      "metadata": {
        "id": "TQRpWkUrsiFr"
      },
      "source": [
        "#### 8. Representar el entorno:\n",
        "Para visualizar el progreso del entrenamiento del agente, use env.render() para\n",
        "mostrar el entorno CartPole durante el entrenamiento. Asegúrese de llamar a env.close() al final para limpiar\n",
        "el renderizado"
      ]
    },
    {
      "cell_type": "code",
      "execution_count": 12,
      "id": "RKrLp0aisjZ2",
      "metadata": {
        "colab": {
          "base_uri": "https://localhost:8080/",
          "height": 472
        },
        "id": "RKrLp0aisjZ2",
        "outputId": "497b3da2-21ca-4c40-e037-f6ebf5874d72"
      },
      "outputs": [
        {
          "data": {
            "image/png": "[encoded data removed]",
            "text/plain": [
              "<Figure size 640x480 with 1 Axes>"
            ]
          },
          "metadata": {},
          "output_type": "display_data"
        }
      ],
      "source": [
        "plt.plot(returns)\n",
        "plt.xlabel(\"Episodios\")\n",
        "plt.ylabel(\"Recompensa total\")\n",
        "plt.title(\"Entrenamiento DQN en CartPole\")\n",
        "plt.show()\n"
      ]
    },
    {
      "cell_type": "markdown",
      "id": "7KNht7wYs4ac",
      "metadata": {
        "id": "7KNht7wYs4ac"
      },
      "source": [
        "#### 9. Supervisar el entrenamiento:\n",
        "Supervise el progreso del entrenamiento del agente, incluida la recompensa\n",
        "total obtenida en cada episodio, para esto utilice una gráfica"
      ]
    },
    {
      "cell_type": "code",
      "execution_count": 13,
      "id": "NT54-v9as_Ec",
      "metadata": {
        "colab": {
          "base_uri": "https://localhost:8080/"
        },
        "id": "NT54-v9as_Ec",
        "outputId": "1fe520f1-aa92-467b-ceb4-d24b7d05c493"
      },
      "outputs": [
        {
          "name": "stdout",
          "output_type": "stream",
          "text": [
            "Recompensa promedio en evaluación: 102.3\n"
          ]
        }
      ],
      "source": [
        "def evaluate(env, online_q, episodes=10, render=False):\n",
        "    total_rewards = []\n",
        "    for ep in range(episodes):\n",
        "        state, _ = env.reset()\n",
        "        done = False\n",
        "        ep_reward = 0\n",
        "        while not done:\n",
        "            action = select_action(state, online_q, action_dim, device, epsilon=0.0)\n",
        "            state, reward, terminated, truncated, _ = env.step(action)\n",
        "            done = terminated or truncated\n",
        "            ep_reward += reward\n",
        "            if render:\n",
        "                env.render()\n",
        "        total_rewards.append(ep_reward)\n",
        "    return np.mean(total_rewards)\n",
        "\n",
        "avg_reward = evaluate(env, online_q, episodes=10, render=False)\n",
        "print(f\"Recompensa promedio en evaluación: {avg_reward}\")\n",
        "env.close()\n"
      ]
    },
    {
      "cell_type": "markdown",
      "id": "c5x_4nRxtG-e",
      "metadata": {
        "id": "c5x_4nRxtG-e"
      },
      "source": [
        "#### 10. Evalúe el rendimiento:\n",
        "Una vez que se complete el entrenamiento, evalúe el rendimiento del agente\n",
        "probándolo en el entorno CartPole sin renderizar y observe qué tan bien puede equilibrar el poste.\n"
      ]
    },
    {
      "cell_type": "code",
      "execution_count": null,
      "id": "xJ0YG3MFtYXM",
      "metadata": {
        "id": "xJ0YG3MFtYXM"
      },
      "outputs": [],
      "source": []
    },
    {
      "cell_type": "markdown",
      "id": "b2848d48",
      "metadata": {
        "id": "b2848d48"
      },
      "source": [
        "## **Práctica 2 - Teoría**\n",
        "\n",
        "Defina en qué consiste y en qué clase de problemas se pueden usar cada uno de los siguientes acercamientos en\n",
        "Deep Reinforcement Learning."
      ]
    },
    {
      "cell_type": "markdown",
      "id": "4dcc451e",
      "metadata": {
        "id": "4dcc451e"
      },
      "source": [
        "---"
      ]
    },
    {
      "cell_type": "markdown",
      "id": "9b959cd1",
      "metadata": {
        "id": "9b959cd1"
      },
      "source": [
        "### 1. Proximal Policy Optimization (PPO)\n",
        "\n",
        "**¿En qué consiste?**  \n",
        "- PPO es un método **on-policy** de optimización de políticas.  \n",
        "- Busca un balance entre **mejorar la recompensa esperada** y **mantener la política actual cercana a la anterior**.  \n",
        "- Introduce una **función de pérdida con un término de \"clipping\"** que evita actualizaciones muy grandes en los parámetros de la política, lo que ayuda a mantener la estabilidad.  \n",
        "- Generalmente se implementa como **actor-critic**: el actor propone acciones y el crítico estima su valor.  \n",
        "\n",
        "**Características clave:**  \n",
        "- Simplicidad en la implementación.  \n",
        "- Estable y confiable.  \n",
        "- Menos costoso computacionalmente que TRPO, pero con resultados similares.  \n",
        "\n",
        "**¿Dónde se usa?**  \n",
        "- Juegos como **Atari**, **StarCraft II**, **Dota 2**.  \n",
        "- Entornos de **control continuo en robótica**."
      ]
    },
    {
      "cell_type": "markdown",
      "id": "0698be6a",
      "metadata": {
        "id": "0698be6a"
      },
      "source": [
        "---"
      ]
    },
    {
      "cell_type": "markdown",
      "id": "3f368212",
      "metadata": {
        "id": "3f368212"
      },
      "source": [
        "### 2. Deep Deterministic Policy Gradients (DDPG)\n",
        "\n",
        "**¿En qué consiste?**  \n",
        "- DDPG es un método **off-policy** y **actor-critic** para espacios de acción continuos.  \n",
        "- El **actor** produce acciones determinísticas (no probabilísticas).  \n",
        "- El **crítico** estima la función Q (valor esperado de una acción en un estado).  \n",
        "- Usa un **replay buffer** para almacenar experiencias pasadas y entrenar con ellas, reduciendo la correlación de datos.  \n",
        "- Utiliza **target networks suavizadas** para mejorar la estabilidad del entrenamiento.  \n",
        "\n",
        "**Características clave:**  \n",
        "- Adecuado para problemas de **alto control continuo**.  \n",
        "- Puede aprender políticas muy precisas en tareas de control físico.  \n",
        "- Puede ser inestable si no se ajustan bien los hiperparámetros.  \n",
        "\n",
        "**¿Dónde se usa?**  \n",
        "- Control de robots (ej. un brazo robótico que debe agarrar objetos).  \n",
        "- Conducción autónoma.  \n",
        "- Tareas de locomoción en simuladores 3D (ej. MuJoCo).  "
      ]
    },
    {
      "cell_type": "markdown",
      "id": "06a5bf02",
      "metadata": {
        "id": "06a5bf02"
      },
      "source": [
        "---"
      ]
    },
    {
      "cell_type": "markdown",
      "id": "bb75bce0",
      "metadata": {
        "id": "bb75bce0"
      },
      "source": [
        "### 3. Trust Region Policy Optimization (TRPO)\n",
        "\n",
        "**¿En qué consiste?**  \n",
        "- TRPO es un algoritmo **on-policy** basado en políticas.  \n",
        "- En lugar de permitir actualizaciones arbitrarias de la política, **impone una restricción de confianza (trust region)**.  \n",
        "- Esta restricción se mide con la **KL-divergence**, asegurando que la política nueva no se desvíe demasiado de la anterior.  \n",
        "- Se enfoca en **estabilidad garantizada**, aunque a costa de más complejidad computacional.  \n",
        "\n",
        "**Características clave:**  \n",
        "- Muy estable en comparación con otros métodos.  \n",
        "- Requiere resolver un problema de optimización más costoso.  \n",
        "- Sirvió de base para el desarrollo de PPO.  \n",
        "\n",
        "**¿Dónde se usa?**  \n",
        "- Entornos de **robótica realista**, donde la estabilidad es crítica.  \n",
        "- Tareas de control continuo donde un error drástico sería costoso."
      ]
    },
    {
      "cell_type": "markdown",
      "id": "65dd09fd",
      "metadata": {
        "id": "65dd09fd"
      },
      "source": [
        "---"
      ]
    },
    {
      "cell_type": "markdown",
      "id": "fe843b14",
      "metadata": {
        "id": "fe843b14"
      },
      "source": [
        "### 4. Asynchronous Advantage Actor-Critic (A3C)\n",
        "\n",
        "**¿En qué consiste?**  \n",
        "- A3C es un método **actor-critic** que entrena **múltiples agentes en paralelo** (cada uno con una copia del entorno).  \n",
        "- Cada agente actualiza de manera asíncrona los parámetros compartidos del modelo global.  \n",
        "- Usa la ventaja (**$Advantage = Q(s,a) – V(s)$**) para reducir la varianza en el entrenamiento.  \n",
        "- La paralelización acelera la exploración y evita caer en mínimos locales.  \n",
        "\n",
        "**Características clave:**  \n",
        "- Eficiente en términos de exploración y velocidad.  \n",
        "- Reduce la correlación entre muestras al tener múltiples agentes explorando en paralelo.  \n",
        "- Puede ser más inestable que PPO en algunos casos.  \n",
        "\n",
        "**¿Dónde se usa?**  \n",
        "- Juegos de Atari.  \n",
        "- Entornos 3D complejos (ej. Doom, Minecraft).  \n",
        "- Simulaciones con muchos estados posibles.  "
      ]
    },
    {
      "cell_type": "markdown",
      "id": "57817b15",
      "metadata": {
        "id": "57817b15"
      },
      "source": [
        "---"
      ]
    },
    {
      "cell_type": "markdown",
      "id": "bd092a58",
      "metadata": {
        "id": "bd092a58"
      },
      "source": [
        "### Tabla comparativa\n",
        "\n",
        "| Algoritmo | Tipo | Idea principal | Ventajas | Limitaciones | Casos típicos |\n",
        "|-----------|------|----------------|----------|--------------|---------------|\n",
        "| **PPO** (Proximal Policy Optimization) | On-policy, Actor-Critic | Función de pérdida con *clipping* para limitar cambios bruscos en la política | Estable, eficiente, fácil de implementar | Menos muestra-eficiente que off-policy | Juegos (Atari, Dota2), robótica |\n",
        "| **DDPG** (Deep Deterministic Policy Gradients) | Off-policy, Actor-Critic | Actor produce acciones continuas determinísticas, crítico evalúa con función Q, usa replay buffer | Maneja acciones continuas, buena precisión | Sensible a hiperparámetros, menos estable | Robótica, control autónomo, locomoción |\n",
        "| **TRPO** (Trust Region Policy Optimization) | On-policy, Policy Gradient | Restringe la actualización de la política usando KL-divergence (trust region) | Muy estable, garantías teóricas | Computacionalmente costoso, difícil de implementar | Robótica avanzada, simulaciones físicas |\n",
        "| **A3C** (Asynchronous Advantage Actor-Critic) | On-policy, Actor-Critic asíncrono | Entrena múltiples agentes en paralelo, cada uno explora y actualiza parámetros globales | Explora más rápido, menos correlación, eficiente | Puede ser inestable, reemplazado por PPO en muchos casos | Atari, videojuegos 3D, exploración compleja |"
      ]
    },
    {
      "cell_type": "markdown",
      "id": "60e42c36",
      "metadata": {
        "id": "60e42c36"
      },
      "source": [
        "## Referencias\n",
        "\n",
        "- DhanushKumar. (2025, agosto 11). PPO algorithm. Medium. https://medium.com/@danushidk507/ppo-algorithm-3b33195de14a\n",
        "\n",
        "- Marekar, A. (2022, junio 12). How DDPG (Deep Deterministic Policy Gradient) Algorithms works in reinforcement learning ? Medium. https://medium.com/@amaresh.dm/how-ddpg-deep-deterministic-policy-gradient-algorithms-works-in-reinforcement-learning-117e6a932e68\n",
        "\n",
        "- Sciforce. (2021, marzo 25). Reinforcement learning and Asynchronous Actor-Critic Agent (A3C) Algorithm, explained. Medium. https://medium.com/sciforce/reinforcement-learning-and-asynchronous-actor-critic-agent-a3c-algorithm-explained-f0f3146a14ab\n",
        "\n",
        "- Wu, H. (2024, marzo 9). Trust Region Policy Optimization explained. Medium. https://medium.com/@hsinhungw/trust-region-policy-optimization-explained-c2671542c329"
      ]
    }
  ],
  "metadata": {
    "accelerator": "GPU",
    "colab": {
      "gpuType": "T4",
      "provenance": []
    },
    "kernelspec": {
      "display_name": "Python 3",
      "name": "python3"
    },
    "language_info": {
      "codemirror_mode": {
        "name": "ipython",
        "version": 3
      },
      "file_extension": ".py",
      "mimetype": "text/x-python",
      "name": "python",
      "nbconvert_exporter": "python",
      "pygments_lexer": "ipython3",
      "version": "3.12.8"
    }
  },
  "nbformat": 4,
  "nbformat_minor": 5
}
